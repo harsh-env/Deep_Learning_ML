{
 "cells": [
  {
   "cell_type": "markdown",
   "metadata": {
    "id": "GjCHpS7igIPl"
   },
   "source": [
    "## Preprocessing"
   ]
  },
  {
   "cell_type": "code",
   "execution_count": 1,
   "metadata": {
    "executionInfo": {
     "elapsed": 6264,
     "status": "ok",
     "timestamp": 1661154164694,
     "user": {
      "displayName": "Harshad Patil",
      "userId": "17090624417283585948"
     },
     "user_tz": 300
    },
    "id": "01SECwdJgIPs"
   },
   "outputs": [],
   "source": [
    "# Import our dependencies\n",
    "from sklearn.model_selection import train_test_split\n",
    "from sklearn.preprocessing import StandardScaler\n",
    "import pandas as pd\n",
    "import tensorflow as tf"
   ]
  },
  {
   "cell_type": "code",
   "execution_count": 2,
   "metadata": {
    "colab": {
     "base_uri": "https://localhost:8080/",
     "height": 496
    },
    "executionInfo": {
     "elapsed": 1187,
     "status": "ok",
     "timestamp": 1661154169572,
     "user": {
      "displayName": "Harshad Patil",
      "userId": "17090624417283585948"
     },
     "user_tz": 300
    },
    "id": "iGioQSvwgIPu",
    "outputId": "a8f9fdb5-f024-4802-e6ac-81983957c979"
   },
   "outputs": [
    {
     "data": {
      "text/html": [
       "\n",
       "  <div id=\"df-7670dcd2-3089-4fac-aba3-3537de27fc5f\">\n",
       "    <div class=\"colab-df-container\">\n",
       "      <div>\n",
       "<style scoped>\n",
       "    .dataframe tbody tr th:only-of-type {\n",
       "        vertical-align: middle;\n",
       "    }\n",
       "\n",
       "    .dataframe tbody tr th {\n",
       "        vertical-align: top;\n",
       "    }\n",
       "\n",
       "    .dataframe thead th {\n",
       "        text-align: right;\n",
       "    }\n",
       "</style>\n",
       "<table border=\"1\" class=\"dataframe\">\n",
       "  <thead>\n",
       "    <tr style=\"text-align: right;\">\n",
       "      <th></th>\n",
       "      <th>EIN</th>\n",
       "      <th>NAME</th>\n",
       "      <th>APPLICATION_TYPE</th>\n",
       "      <th>AFFILIATION</th>\n",
       "      <th>CLASSIFICATION</th>\n",
       "      <th>USE_CASE</th>\n",
       "      <th>ORGANIZATION</th>\n",
       "      <th>STATUS</th>\n",
       "      <th>INCOME_AMT</th>\n",
       "      <th>SPECIAL_CONSIDERATIONS</th>\n",
       "      <th>ASK_AMT</th>\n",
       "      <th>IS_SUCCESSFUL</th>\n",
       "    </tr>\n",
       "  </thead>\n",
       "  <tbody>\n",
       "    <tr>\n",
       "      <th>0</th>\n",
       "      <td>10520599</td>\n",
       "      <td>BLUE KNIGHTS MOTORCYCLE CLUB</td>\n",
       "      <td>T10</td>\n",
       "      <td>Independent</td>\n",
       "      <td>C1000</td>\n",
       "      <td>ProductDev</td>\n",
       "      <td>Association</td>\n",
       "      <td>1</td>\n",
       "      <td>0</td>\n",
       "      <td>N</td>\n",
       "      <td>5000</td>\n",
       "      <td>1</td>\n",
       "    </tr>\n",
       "    <tr>\n",
       "      <th>1</th>\n",
       "      <td>10531628</td>\n",
       "      <td>AMERICAN CHESAPEAKE CLUB CHARITABLE TR</td>\n",
       "      <td>T3</td>\n",
       "      <td>Independent</td>\n",
       "      <td>C2000</td>\n",
       "      <td>Preservation</td>\n",
       "      <td>Co-operative</td>\n",
       "      <td>1</td>\n",
       "      <td>1-9999</td>\n",
       "      <td>N</td>\n",
       "      <td>108590</td>\n",
       "      <td>1</td>\n",
       "    </tr>\n",
       "    <tr>\n",
       "      <th>2</th>\n",
       "      <td>10547893</td>\n",
       "      <td>ST CLOUD PROFESSIONAL FIREFIGHTERS</td>\n",
       "      <td>T5</td>\n",
       "      <td>CompanySponsored</td>\n",
       "      <td>C3000</td>\n",
       "      <td>ProductDev</td>\n",
       "      <td>Association</td>\n",
       "      <td>1</td>\n",
       "      <td>0</td>\n",
       "      <td>N</td>\n",
       "      <td>5000</td>\n",
       "      <td>0</td>\n",
       "    </tr>\n",
       "    <tr>\n",
       "      <th>3</th>\n",
       "      <td>10553066</td>\n",
       "      <td>SOUTHSIDE ATHLETIC ASSOCIATION</td>\n",
       "      <td>T3</td>\n",
       "      <td>CompanySponsored</td>\n",
       "      <td>C2000</td>\n",
       "      <td>Preservation</td>\n",
       "      <td>Trust</td>\n",
       "      <td>1</td>\n",
       "      <td>10000-24999</td>\n",
       "      <td>N</td>\n",
       "      <td>6692</td>\n",
       "      <td>1</td>\n",
       "    </tr>\n",
       "    <tr>\n",
       "      <th>4</th>\n",
       "      <td>10556103</td>\n",
       "      <td>GENETIC RESEARCH INSTITUTE OF THE DESERT</td>\n",
       "      <td>T3</td>\n",
       "      <td>Independent</td>\n",
       "      <td>C1000</td>\n",
       "      <td>Heathcare</td>\n",
       "      <td>Trust</td>\n",
       "      <td>1</td>\n",
       "      <td>100000-499999</td>\n",
       "      <td>N</td>\n",
       "      <td>142590</td>\n",
       "      <td>1</td>\n",
       "    </tr>\n",
       "  </tbody>\n",
       "</table>\n",
       "</div>\n",
       "      <button class=\"colab-df-convert\" onclick=\"convertToInteractive('df-7670dcd2-3089-4fac-aba3-3537de27fc5f')\"\n",
       "              title=\"Convert this dataframe to an interactive table.\"\n",
       "              style=\"display:none;\">\n",
       "        \n",
       "  <svg xmlns=\"http://www.w3.org/2000/svg\" height=\"24px\"viewBox=\"0 0 24 24\"\n",
       "       width=\"24px\">\n",
       "    <path d=\"M0 0h24v24H0V0z\" fill=\"none\"/>\n",
       "    <path d=\"M18.56 5.44l.94 2.06.94-2.06 2.06-.94-2.06-.94-.94-2.06-.94 2.06-2.06.94zm-11 1L8.5 8.5l.94-2.06 2.06-.94-2.06-.94L8.5 2.5l-.94 2.06-2.06.94zm10 10l.94 2.06.94-2.06 2.06-.94-2.06-.94-.94-2.06-.94 2.06-2.06.94z\"/><path d=\"M17.41 7.96l-1.37-1.37c-.4-.4-.92-.59-1.43-.59-.52 0-1.04.2-1.43.59L10.3 9.45l-7.72 7.72c-.78.78-.78 2.05 0 2.83L4 21.41c.39.39.9.59 1.41.59.51 0 1.02-.2 1.41-.59l7.78-7.78 2.81-2.81c.8-.78.8-2.07 0-2.86zM5.41 20L4 18.59l7.72-7.72 1.47 1.35L5.41 20z\"/>\n",
       "  </svg>\n",
       "      </button>\n",
       "      \n",
       "  <style>\n",
       "    .colab-df-container {\n",
       "      display:flex;\n",
       "      flex-wrap:wrap;\n",
       "      gap: 12px;\n",
       "    }\n",
       "\n",
       "    .colab-df-convert {\n",
       "      background-color: #E8F0FE;\n",
       "      border: none;\n",
       "      border-radius: 50%;\n",
       "      cursor: pointer;\n",
       "      display: none;\n",
       "      fill: #1967D2;\n",
       "      height: 32px;\n",
       "      padding: 0 0 0 0;\n",
       "      width: 32px;\n",
       "    }\n",
       "\n",
       "    .colab-df-convert:hover {\n",
       "      background-color: #E2EBFA;\n",
       "      box-shadow: 0px 1px 2px rgba(60, 64, 67, 0.3), 0px 1px 3px 1px rgba(60, 64, 67, 0.15);\n",
       "      fill: #174EA6;\n",
       "    }\n",
       "\n",
       "    [theme=dark] .colab-df-convert {\n",
       "      background-color: #3B4455;\n",
       "      fill: #D2E3FC;\n",
       "    }\n",
       "\n",
       "    [theme=dark] .colab-df-convert:hover {\n",
       "      background-color: #434B5C;\n",
       "      box-shadow: 0px 1px 3px 1px rgba(0, 0, 0, 0.15);\n",
       "      filter: drop-shadow(0px 1px 2px rgba(0, 0, 0, 0.3));\n",
       "      fill: #FFFFFF;\n",
       "    }\n",
       "  </style>\n",
       "\n",
       "      <script>\n",
       "        const buttonEl =\n",
       "          document.querySelector('#df-7670dcd2-3089-4fac-aba3-3537de27fc5f button.colab-df-convert');\n",
       "        buttonEl.style.display =\n",
       "          google.colab.kernel.accessAllowed ? 'block' : 'none';\n",
       "\n",
       "        async function convertToInteractive(key) {\n",
       "          const element = document.querySelector('#df-7670dcd2-3089-4fac-aba3-3537de27fc5f');\n",
       "          const dataTable =\n",
       "            await google.colab.kernel.invokeFunction('convertToInteractive',\n",
       "                                                     [key], {});\n",
       "          if (!dataTable) return;\n",
       "\n",
       "          const docLinkHtml = 'Like what you see? Visit the ' +\n",
       "            '<a target=\"_blank\" href=https://colab.research.google.com/notebooks/data_table.ipynb>data table notebook</a>'\n",
       "            + ' to learn more about interactive tables.';\n",
       "          element.innerHTML = '';\n",
       "          dataTable['output_type'] = 'display_data';\n",
       "          await google.colab.output.renderOutput(dataTable, element);\n",
       "          const docLink = document.createElement('div');\n",
       "          docLink.innerHTML = docLinkHtml;\n",
       "          element.appendChild(docLink);\n",
       "        }\n",
       "      </script>\n",
       "    </div>\n",
       "  </div>\n",
       "  "
      ],
      "text/plain": [
       "        EIN                                      NAME APPLICATION_TYPE  \\\n",
       "0  10520599              BLUE KNIGHTS MOTORCYCLE CLUB              T10   \n",
       "1  10531628    AMERICAN CHESAPEAKE CLUB CHARITABLE TR               T3   \n",
       "2  10547893        ST CLOUD PROFESSIONAL FIREFIGHTERS               T5   \n",
       "3  10553066            SOUTHSIDE ATHLETIC ASSOCIATION               T3   \n",
       "4  10556103  GENETIC RESEARCH INSTITUTE OF THE DESERT               T3   \n",
       "\n",
       "        AFFILIATION CLASSIFICATION      USE_CASE  ORGANIZATION  STATUS  \\\n",
       "0       Independent          C1000    ProductDev   Association       1   \n",
       "1       Independent          C2000  Preservation  Co-operative       1   \n",
       "2  CompanySponsored          C3000    ProductDev   Association       1   \n",
       "3  CompanySponsored          C2000  Preservation         Trust       1   \n",
       "4       Independent          C1000     Heathcare         Trust       1   \n",
       "\n",
       "      INCOME_AMT SPECIAL_CONSIDERATIONS  ASK_AMT  IS_SUCCESSFUL  \n",
       "0              0                      N     5000              1  \n",
       "1         1-9999                      N   108590              1  \n",
       "2              0                      N     5000              0  \n",
       "3    10000-24999                      N     6692              1  \n",
       "4  100000-499999                      N   142590              1  "
      ]
     },
     "execution_count": 2,
     "metadata": {},
     "output_type": "execute_result"
    }
   ],
   "source": [
    "#  Import and read the charity_data.csv.\n",
    "# application_df = pd.read_csv(\"Resources/charity_data.csv\")\n",
    "url = \"https://raw.githubusercontent.com/harsh-env/Deep_Learning_ML/main/Resources/charity_data.csv\"\n",
    "application_df=pd.read_csv(url)\n",
    "application_df.head()"
   ]
  },
  {
   "cell_type": "code",
   "execution_count": 3,
   "metadata": {
    "executionInfo": {
     "elapsed": 227,
     "status": "ok",
     "timestamp": 1661154172868,
     "user": {
      "displayName": "Harshad Patil",
      "userId": "17090624417283585948"
     },
     "user_tz": 300
    },
    "id": "z7tBxvJ4gIPw"
   },
   "outputs": [],
   "source": [
    "# Drop the non-beneficial ID column, 'EIN'.\n",
    "application_df = application_df.drop(columns = ['EIN'])"
   ]
  },
  {
   "cell_type": "code",
   "execution_count": 4,
   "metadata": {
    "colab": {
     "base_uri": "https://localhost:8080/"
    },
    "executionInfo": {
     "elapsed": 191,
     "status": "ok",
     "timestamp": 1661154174445,
     "user": {
      "displayName": "Harshad Patil",
      "userId": "17090624417283585948"
     },
     "user_tz": 300
    },
    "id": "oVIxX8ldgIPx",
    "outputId": "dcf0ccd1-8004-4f27-adaa-045d4eb5cd33"
   },
   "outputs": [
    {
     "name": "stdout",
     "output_type": "stream",
     "text": [
      "NAME 19568\n",
      "APPLICATION_TYPE 17\n",
      "AFFILIATION 6\n",
      "CLASSIFICATION 71\n",
      "USE_CASE 5\n",
      "ORGANIZATION 4\n",
      "STATUS 2\n",
      "INCOME_AMT 9\n",
      "SPECIAL_CONSIDERATIONS 2\n",
      "ASK_AMT 8747\n",
      "IS_SUCCESSFUL 2\n"
     ]
    }
   ],
   "source": [
    "# Determine the number of unique values in each column.\n",
    "for x in application_df.columns:\n",
    "    print(x, len(application_df[x].unique()))"
   ]
  },
  {
   "cell_type": "code",
   "execution_count": 5,
   "metadata": {
    "colab": {
     "base_uri": "https://localhost:8080/"
    },
    "executionInfo": {
     "elapsed": 210,
     "status": "ok",
     "timestamp": 1661154176635,
     "user": {
      "displayName": "Harshad Patil",
      "userId": "17090624417283585948"
     },
     "user_tz": 300
    },
    "id": "urfLPztqgIPx",
    "outputId": "e907e037-32a5-491e-a193-6bdc0d525ab3"
   },
   "outputs": [
    {
     "data": {
      "text/plain": [
       "PARENT BOOSTER USA INC                                                  1260\n",
       "TOPS CLUB INC                                                            765\n",
       "UNITED STATES BOWLING CONGRESS INC                                       700\n",
       "WASHINGTON STATE UNIVERSITY                                              492\n",
       "AMATEUR ATHLETIC UNION OF THE UNITED STATES INC                          408\n",
       "                                                                        ... \n",
       "ST LOUIS SLAM WOMENS FOOTBALL                                              1\n",
       "AIESEC ALUMNI IBEROAMERICA CORP                                            1\n",
       "WEALLBLEEDRED ORG INC                                                      1\n",
       "AMERICAN SOCIETY FOR STANDARDS IN MEDIUMSHIP & PSYCHICAL INVESTIGATI       1\n",
       "WATERHOUSE CHARITABLE TR                                                   1\n",
       "Name: NAME, Length: 19568, dtype: int64"
      ]
     },
     "execution_count": 5,
     "metadata": {},
     "output_type": "execute_result"
    }
   ],
   "source": [
    "application_df[\"NAME\"].value_counts()"
   ]
  },
  {
   "cell_type": "code",
   "execution_count": 6,
   "metadata": {
    "colab": {
     "base_uri": "https://localhost:8080/"
    },
    "executionInfo": {
     "elapsed": 31872,
     "status": "ok",
     "timestamp": 1661154210550,
     "user": {
      "displayName": "Harshad Patil",
      "userId": "17090624417283585948"
     },
     "user_tz": 300
    },
    "id": "bmSFM04MgIPy",
    "outputId": "dd998b28-3c6f-46f0-8b40-3987f218cc68"
   },
   "outputs": [
    {
     "data": {
      "text/plain": [
       "Other                                                                19803\n",
       "PARENT BOOSTER USA INC                                                1260\n",
       "TOPS CLUB INC                                                          765\n",
       "UNITED STATES BOWLING CONGRESS INC                                     700\n",
       "WASHINGTON STATE UNIVERSITY                                            492\n",
       "                                                                     ...  \n",
       "GUILDS OF THE SANTA FE OPERA INC                                         5\n",
       "FAMILY MOTOR COACH ASSOCIATION                                           5\n",
       "JAMESTOWN SOCIETY                                                        5\n",
       "MOST WORSHIPFUL PRINCE HALL GRAND LODGE OF FREE & ACCEPTED MASONS        5\n",
       "PTA HAWAII CONGRESS                                                      5\n",
       "Name: NAME, Length: 403, dtype: int64"
      ]
     },
     "execution_count": 6,
     "metadata": {},
     "output_type": "execute_result"
    }
   ],
   "source": [
    "# Look at NAME value counts for binning\n",
    "name_cnt = application_df[\"NAME\"].value_counts()\n",
    "name_cnt\n",
    "\n",
    "# Choose a cutoff value and create a list of application types to be replaced\n",
    "# use the variable name `name_to_replace`\n",
    "name_to_replace = list(name_cnt[name_cnt<5].index)\n",
    "\n",
    "# Replace in dataframe\n",
    "for name in name_to_replace:\n",
    "    application_df['NAME'] = application_df['NAME'].replace(name,\"Other\")\n",
    "\n",
    "# Check to make sure binning was successful\n",
    "application_df['NAME'].value_counts()"
   ]
  },
  {
   "cell_type": "code",
   "execution_count": 7,
   "metadata": {
    "colab": {
     "base_uri": "https://localhost:8080/"
    },
    "executionInfo": {
     "elapsed": 330,
     "status": "ok",
     "timestamp": 1661154216466,
     "user": {
      "displayName": "Harshad Patil",
      "userId": "17090624417283585948"
     },
     "user_tz": 300
    },
    "id": "vuPGkC7_gIPy",
    "outputId": "90eeef30-cf65-4ed4-b42c-50a620dd0fa3"
   },
   "outputs": [
    {
     "data": {
      "text/plain": [
       "T3     27037\n",
       "T4      1542\n",
       "T6      1216\n",
       "T5      1173\n",
       "T19     1065\n",
       "T8       737\n",
       "T7       725\n",
       "T10      528\n",
       "T9       156\n",
       "T13       66\n",
       "T12       27\n",
       "T2        16\n",
       "T25        3\n",
       "T14        3\n",
       "T29        2\n",
       "T15        2\n",
       "T17        1\n",
       "Name: APPLICATION_TYPE, dtype: int64"
      ]
     },
     "execution_count": 7,
     "metadata": {},
     "output_type": "execute_result"
    }
   ],
   "source": [
    "# Look at APPLICATION_TYPE value counts for binning\n",
    "counts = application_df['APPLICATION_TYPE'].value_counts()\n",
    "counts"
   ]
  },
  {
   "cell_type": "code",
   "execution_count": 8,
   "metadata": {
    "colab": {
     "base_uri": "https://localhost:8080/"
    },
    "executionInfo": {
     "elapsed": 184,
     "status": "ok",
     "timestamp": 1661154219021,
     "user": {
      "displayName": "Harshad Patil",
      "userId": "17090624417283585948"
     },
     "user_tz": 300
    },
    "id": "KkeDlDKPgIP0",
    "outputId": "22e268b1-ad52-404f-c70f-681a1ff1a948"
   },
   "outputs": [
    {
     "data": {
      "text/plain": [
       "T3       27037\n",
       "T4        1542\n",
       "T6        1216\n",
       "T5        1173\n",
       "T19       1065\n",
       "T8         737\n",
       "T7         725\n",
       "T10        528\n",
       "Other      276\n",
       "Name: APPLICATION_TYPE, dtype: int64"
      ]
     },
     "execution_count": 8,
     "metadata": {},
     "output_type": "execute_result"
    }
   ],
   "source": [
    "# Choose a cutoff value and create a list of application types to be replaced\n",
    "# use the variable name `application_types_to_replace`\n",
    "application_types_to_replace = list(counts[counts<400].index)\n",
    "application_types_to_replace\n",
    "\n",
    "# Replace in dataframe\n",
    "for app in application_types_to_replace:\n",
    "    application_df['APPLICATION_TYPE'] = application_df['APPLICATION_TYPE'].replace(app,\"Other\")\n",
    "\n",
    "# Check to make sure binning was successful\n",
    "application_df['APPLICATION_TYPE'].value_counts()"
   ]
  },
  {
   "cell_type": "code",
   "execution_count": 9,
   "metadata": {
    "colab": {
     "base_uri": "https://localhost:8080/"
    },
    "executionInfo": {
     "elapsed": 220,
     "status": "ok",
     "timestamp": 1661154222223,
     "user": {
      "displayName": "Harshad Patil",
      "userId": "17090624417283585948"
     },
     "user_tz": 300
    },
    "id": "43HfUqBugIP0",
    "outputId": "daa4ef66-763d-4768-c77c-dea39594581c"
   },
   "outputs": [
    {
     "data": {
      "text/plain": [
       "C1000    17326\n",
       "C2000     6074\n",
       "C1200     4837\n",
       "C3000     1918\n",
       "C2100     1883\n",
       "         ...  \n",
       "C4120        1\n",
       "C8210        1\n",
       "C2561        1\n",
       "C4500        1\n",
       "C2150        1\n",
       "Name: CLASSIFICATION, Length: 71, dtype: int64"
      ]
     },
     "execution_count": 9,
     "metadata": {},
     "output_type": "execute_result"
    }
   ],
   "source": [
    "# Look at CLASSIFICATION value counts for binning\n",
    "cbinning = application_df['CLASSIFICATION'].value_counts()\n",
    "cbinning"
   ]
  },
  {
   "cell_type": "code",
   "execution_count": 10,
   "metadata": {
    "colab": {
     "base_uri": "https://localhost:8080/"
    },
    "executionInfo": {
     "elapsed": 188,
     "status": "ok",
     "timestamp": 1661154224332,
     "user": {
      "displayName": "Harshad Patil",
      "userId": "17090624417283585948"
     },
     "user_tz": 300
    },
    "id": "3sfCRb69gIP1",
    "outputId": "6089eda5-c126-4246-f61d-7b1588449826"
   },
   "outputs": [
    {
     "data": {
      "text/plain": [
       "C1000    17326\n",
       "C2000     6074\n",
       "C1200     4837\n",
       "C3000     1918\n",
       "C2100     1883\n",
       "C7000      777\n",
       "C1700      287\n",
       "C4000      194\n",
       "C5000      116\n",
       "C1270      114\n",
       "C2700      104\n",
       "C2800       95\n",
       "C7100       75\n",
       "C1300       58\n",
       "C1280       50\n",
       "C1230       36\n",
       "C1400       34\n",
       "C7200       32\n",
       "C2300       32\n",
       "C1240       30\n",
       "C8000       20\n",
       "C7120       18\n",
       "C1500       16\n",
       "C1800       15\n",
       "C6000       15\n",
       "C1250       14\n",
       "C8200       11\n",
       "C1238       10\n",
       "C1278       10\n",
       "C1235        9\n",
       "C1237        9\n",
       "C7210        7\n",
       "C2400        6\n",
       "C1720        6\n",
       "C4100        6\n",
       "C1257        5\n",
       "C1600        5\n",
       "C1260        3\n",
       "C2710        3\n",
       "C0           3\n",
       "C3200        2\n",
       "C1234        2\n",
       "C1246        2\n",
       "C1267        2\n",
       "C1256        2\n",
       "Name: CLASSIFICATION, dtype: int64"
      ]
     },
     "execution_count": 10,
     "metadata": {},
     "output_type": "execute_result"
    }
   ],
   "source": [
    "# You may find it helpful to look at CLASSIFICATION value counts >1\n",
    "classificationcnts= cbinning[cbinning>1]\n",
    "classificationcnts"
   ]
  },
  {
   "cell_type": "code",
   "execution_count": 11,
   "metadata": {
    "colab": {
     "base_uri": "https://localhost:8080/"
    },
    "executionInfo": {
     "elapsed": 260,
     "status": "ok",
     "timestamp": 1661154227615,
     "user": {
      "displayName": "Harshad Patil",
      "userId": "17090624417283585948"
     },
     "user_tz": 300
    },
    "id": "UYsZuw5egIP1",
    "outputId": "80011a52-0e27-4885-d2c4-5c1228eed424"
   },
   "outputs": [
    {
     "data": {
      "text/plain": [
       "C1000    17326\n",
       "C2000     6074\n",
       "C1200     4837\n",
       "C3000     1918\n",
       "C2100     1883\n",
       "Other     1484\n",
       "C7000      777\n",
       "Name: CLASSIFICATION, dtype: int64"
      ]
     },
     "execution_count": 11,
     "metadata": {},
     "output_type": "execute_result"
    }
   ],
   "source": [
    "# Choose a cutoff value and create a list of classifications to be replaced\n",
    "# use the variable name `classifications_to_replace`\n",
    "classifications_to_replace = list (cbinning[cbinning<500].index)\n",
    "classifications_to_replace\n",
    "\n",
    "# Replace in dataframe\n",
    "for cls in classifications_to_replace:\n",
    "    application_df['CLASSIFICATION'] = application_df['CLASSIFICATION'].replace(cls,\"Other\")\n",
    "    \n",
    "# Check to make sure binning was successful\n",
    "application_df['CLASSIFICATION'].value_counts()"
   ]
  },
  {
   "cell_type": "code",
   "execution_count": 12,
   "metadata": {
    "colab": {
     "base_uri": "https://localhost:8080/",
     "height": 386
    },
    "executionInfo": {
     "elapsed": 417,
     "status": "ok",
     "timestamp": 1661154232120,
     "user": {
      "displayName": "Harshad Patil",
      "userId": "17090624417283585948"
     },
     "user_tz": 300
    },
    "id": "EJ2Vr5p9gIP2",
    "outputId": "96353878-eeb0-40aa-9d38-9e6436b6b1f5"
   },
   "outputs": [
    {
     "data": {
      "text/html": [
       "\n",
       "  <div id=\"df-a8065f17-258c-4ce4-ac62-365838853a04\">\n",
       "    <div class=\"colab-df-container\">\n",
       "      <div>\n",
       "<style scoped>\n",
       "    .dataframe tbody tr th:only-of-type {\n",
       "        vertical-align: middle;\n",
       "    }\n",
       "\n",
       "    .dataframe tbody tr th {\n",
       "        vertical-align: top;\n",
       "    }\n",
       "\n",
       "    .dataframe thead th {\n",
       "        text-align: right;\n",
       "    }\n",
       "</style>\n",
       "<table border=\"1\" class=\"dataframe\">\n",
       "  <thead>\n",
       "    <tr style=\"text-align: right;\">\n",
       "      <th></th>\n",
       "      <th>STATUS</th>\n",
       "      <th>ASK_AMT</th>\n",
       "      <th>IS_SUCCESSFUL</th>\n",
       "      <th>NAME_AACE INTERNATIONAL</th>\n",
       "      <th>NAME_ACE MENTOR PROGRAM OF AMERICA INC</th>\n",
       "      <th>NAME_ACTS MINISTRY</th>\n",
       "      <th>NAME_ACTS MISSIONS</th>\n",
       "      <th>NAME_AFRICAN-AMERICAN POSTAL LEAGUE UNITED FOR SUCCESS A-PLUS</th>\n",
       "      <th>NAME_AIR FORCE ASSOCIATION</th>\n",
       "      <th>NAME_ALABAMA FEDERATION OF WOMENS CLUBS</th>\n",
       "      <th>...</th>\n",
       "      <th>INCOME_AMT_1-9999</th>\n",
       "      <th>INCOME_AMT_10000-24999</th>\n",
       "      <th>INCOME_AMT_100000-499999</th>\n",
       "      <th>INCOME_AMT_10M-50M</th>\n",
       "      <th>INCOME_AMT_1M-5M</th>\n",
       "      <th>INCOME_AMT_25000-99999</th>\n",
       "      <th>INCOME_AMT_50M+</th>\n",
       "      <th>INCOME_AMT_5M-10M</th>\n",
       "      <th>SPECIAL_CONSIDERATIONS_N</th>\n",
       "      <th>SPECIAL_CONSIDERATIONS_Y</th>\n",
       "    </tr>\n",
       "  </thead>\n",
       "  <tbody>\n",
       "    <tr>\n",
       "      <th>0</th>\n",
       "      <td>1</td>\n",
       "      <td>5000</td>\n",
       "      <td>1</td>\n",
       "      <td>0.0</td>\n",
       "      <td>0.0</td>\n",
       "      <td>0.0</td>\n",
       "      <td>0.0</td>\n",
       "      <td>0.0</td>\n",
       "      <td>0.0</td>\n",
       "      <td>0.0</td>\n",
       "      <td>...</td>\n",
       "      <td>0.0</td>\n",
       "      <td>0.0</td>\n",
       "      <td>0.0</td>\n",
       "      <td>0.0</td>\n",
       "      <td>0.0</td>\n",
       "      <td>0.0</td>\n",
       "      <td>0.0</td>\n",
       "      <td>0.0</td>\n",
       "      <td>1.0</td>\n",
       "      <td>0.0</td>\n",
       "    </tr>\n",
       "    <tr>\n",
       "      <th>1</th>\n",
       "      <td>1</td>\n",
       "      <td>108590</td>\n",
       "      <td>1</td>\n",
       "      <td>0.0</td>\n",
       "      <td>0.0</td>\n",
       "      <td>0.0</td>\n",
       "      <td>0.0</td>\n",
       "      <td>0.0</td>\n",
       "      <td>0.0</td>\n",
       "      <td>0.0</td>\n",
       "      <td>...</td>\n",
       "      <td>1.0</td>\n",
       "      <td>0.0</td>\n",
       "      <td>0.0</td>\n",
       "      <td>0.0</td>\n",
       "      <td>0.0</td>\n",
       "      <td>0.0</td>\n",
       "      <td>0.0</td>\n",
       "      <td>0.0</td>\n",
       "      <td>1.0</td>\n",
       "      <td>0.0</td>\n",
       "    </tr>\n",
       "    <tr>\n",
       "      <th>2</th>\n",
       "      <td>1</td>\n",
       "      <td>5000</td>\n",
       "      <td>0</td>\n",
       "      <td>0.0</td>\n",
       "      <td>0.0</td>\n",
       "      <td>0.0</td>\n",
       "      <td>0.0</td>\n",
       "      <td>0.0</td>\n",
       "      <td>0.0</td>\n",
       "      <td>0.0</td>\n",
       "      <td>...</td>\n",
       "      <td>0.0</td>\n",
       "      <td>0.0</td>\n",
       "      <td>0.0</td>\n",
       "      <td>0.0</td>\n",
       "      <td>0.0</td>\n",
       "      <td>0.0</td>\n",
       "      <td>0.0</td>\n",
       "      <td>0.0</td>\n",
       "      <td>1.0</td>\n",
       "      <td>0.0</td>\n",
       "    </tr>\n",
       "    <tr>\n",
       "      <th>3</th>\n",
       "      <td>1</td>\n",
       "      <td>6692</td>\n",
       "      <td>1</td>\n",
       "      <td>0.0</td>\n",
       "      <td>0.0</td>\n",
       "      <td>0.0</td>\n",
       "      <td>0.0</td>\n",
       "      <td>0.0</td>\n",
       "      <td>0.0</td>\n",
       "      <td>0.0</td>\n",
       "      <td>...</td>\n",
       "      <td>0.0</td>\n",
       "      <td>1.0</td>\n",
       "      <td>0.0</td>\n",
       "      <td>0.0</td>\n",
       "      <td>0.0</td>\n",
       "      <td>0.0</td>\n",
       "      <td>0.0</td>\n",
       "      <td>0.0</td>\n",
       "      <td>1.0</td>\n",
       "      <td>0.0</td>\n",
       "    </tr>\n",
       "    <tr>\n",
       "      <th>4</th>\n",
       "      <td>1</td>\n",
       "      <td>142590</td>\n",
       "      <td>1</td>\n",
       "      <td>0.0</td>\n",
       "      <td>0.0</td>\n",
       "      <td>0.0</td>\n",
       "      <td>0.0</td>\n",
       "      <td>0.0</td>\n",
       "      <td>0.0</td>\n",
       "      <td>0.0</td>\n",
       "      <td>...</td>\n",
       "      <td>0.0</td>\n",
       "      <td>0.0</td>\n",
       "      <td>1.0</td>\n",
       "      <td>0.0</td>\n",
       "      <td>0.0</td>\n",
       "      <td>0.0</td>\n",
       "      <td>0.0</td>\n",
       "      <td>0.0</td>\n",
       "      <td>1.0</td>\n",
       "      <td>0.0</td>\n",
       "    </tr>\n",
       "  </tbody>\n",
       "</table>\n",
       "<p>5 rows × 448 columns</p>\n",
       "</div>\n",
       "      <button class=\"colab-df-convert\" onclick=\"convertToInteractive('df-a8065f17-258c-4ce4-ac62-365838853a04')\"\n",
       "              title=\"Convert this dataframe to an interactive table.\"\n",
       "              style=\"display:none;\">\n",
       "        \n",
       "  <svg xmlns=\"http://www.w3.org/2000/svg\" height=\"24px\"viewBox=\"0 0 24 24\"\n",
       "       width=\"24px\">\n",
       "    <path d=\"M0 0h24v24H0V0z\" fill=\"none\"/>\n",
       "    <path d=\"M18.56 5.44l.94 2.06.94-2.06 2.06-.94-2.06-.94-.94-2.06-.94 2.06-2.06.94zm-11 1L8.5 8.5l.94-2.06 2.06-.94-2.06-.94L8.5 2.5l-.94 2.06-2.06.94zm10 10l.94 2.06.94-2.06 2.06-.94-2.06-.94-.94-2.06-.94 2.06-2.06.94z\"/><path d=\"M17.41 7.96l-1.37-1.37c-.4-.4-.92-.59-1.43-.59-.52 0-1.04.2-1.43.59L10.3 9.45l-7.72 7.72c-.78.78-.78 2.05 0 2.83L4 21.41c.39.39.9.59 1.41.59.51 0 1.02-.2 1.41-.59l7.78-7.78 2.81-2.81c.8-.78.8-2.07 0-2.86zM5.41 20L4 18.59l7.72-7.72 1.47 1.35L5.41 20z\"/>\n",
       "  </svg>\n",
       "      </button>\n",
       "      \n",
       "  <style>\n",
       "    .colab-df-container {\n",
       "      display:flex;\n",
       "      flex-wrap:wrap;\n",
       "      gap: 12px;\n",
       "    }\n",
       "\n",
       "    .colab-df-convert {\n",
       "      background-color: #E8F0FE;\n",
       "      border: none;\n",
       "      border-radius: 50%;\n",
       "      cursor: pointer;\n",
       "      display: none;\n",
       "      fill: #1967D2;\n",
       "      height: 32px;\n",
       "      padding: 0 0 0 0;\n",
       "      width: 32px;\n",
       "    }\n",
       "\n",
       "    .colab-df-convert:hover {\n",
       "      background-color: #E2EBFA;\n",
       "      box-shadow: 0px 1px 2px rgba(60, 64, 67, 0.3), 0px 1px 3px 1px rgba(60, 64, 67, 0.15);\n",
       "      fill: #174EA6;\n",
       "    }\n",
       "\n",
       "    [theme=dark] .colab-df-convert {\n",
       "      background-color: #3B4455;\n",
       "      fill: #D2E3FC;\n",
       "    }\n",
       "\n",
       "    [theme=dark] .colab-df-convert:hover {\n",
       "      background-color: #434B5C;\n",
       "      box-shadow: 0px 1px 3px 1px rgba(0, 0, 0, 0.15);\n",
       "      filter: drop-shadow(0px 1px 2px rgba(0, 0, 0, 0.3));\n",
       "      fill: #FFFFFF;\n",
       "    }\n",
       "  </style>\n",
       "\n",
       "      <script>\n",
       "        const buttonEl =\n",
       "          document.querySelector('#df-a8065f17-258c-4ce4-ac62-365838853a04 button.colab-df-convert');\n",
       "        buttonEl.style.display =\n",
       "          google.colab.kernel.accessAllowed ? 'block' : 'none';\n",
       "\n",
       "        async function convertToInteractive(key) {\n",
       "          const element = document.querySelector('#df-a8065f17-258c-4ce4-ac62-365838853a04');\n",
       "          const dataTable =\n",
       "            await google.colab.kernel.invokeFunction('convertToInteractive',\n",
       "                                                     [key], {});\n",
       "          if (!dataTable) return;\n",
       "\n",
       "          const docLinkHtml = 'Like what you see? Visit the ' +\n",
       "            '<a target=\"_blank\" href=https://colab.research.google.com/notebooks/data_table.ipynb>data table notebook</a>'\n",
       "            + ' to learn more about interactive tables.';\n",
       "          element.innerHTML = '';\n",
       "          dataTable['output_type'] = 'display_data';\n",
       "          await google.colab.output.renderOutput(dataTable, element);\n",
       "          const docLink = document.createElement('div');\n",
       "          docLink.innerHTML = docLinkHtml;\n",
       "          element.appendChild(docLink);\n",
       "        }\n",
       "      </script>\n",
       "    </div>\n",
       "  </div>\n",
       "  "
      ],
      "text/plain": [
       "   STATUS  ASK_AMT  IS_SUCCESSFUL  NAME_AACE INTERNATIONAL  \\\n",
       "0       1     5000              1                      0.0   \n",
       "1       1   108590              1                      0.0   \n",
       "2       1     5000              0                      0.0   \n",
       "3       1     6692              1                      0.0   \n",
       "4       1   142590              1                      0.0   \n",
       "\n",
       "   NAME_ACE MENTOR PROGRAM OF AMERICA INC  NAME_ACTS MINISTRY  \\\n",
       "0                                     0.0                 0.0   \n",
       "1                                     0.0                 0.0   \n",
       "2                                     0.0                 0.0   \n",
       "3                                     0.0                 0.0   \n",
       "4                                     0.0                 0.0   \n",
       "\n",
       "   NAME_ACTS MISSIONS  \\\n",
       "0                 0.0   \n",
       "1                 0.0   \n",
       "2                 0.0   \n",
       "3                 0.0   \n",
       "4                 0.0   \n",
       "\n",
       "   NAME_AFRICAN-AMERICAN POSTAL LEAGUE UNITED FOR SUCCESS A-PLUS  \\\n",
       "0                                                0.0               \n",
       "1                                                0.0               \n",
       "2                                                0.0               \n",
       "3                                                0.0               \n",
       "4                                                0.0               \n",
       "\n",
       "   NAME_AIR FORCE ASSOCIATION  NAME_ALABAMA FEDERATION OF WOMENS CLUBS  ...  \\\n",
       "0                         0.0                                      0.0  ...   \n",
       "1                         0.0                                      0.0  ...   \n",
       "2                         0.0                                      0.0  ...   \n",
       "3                         0.0                                      0.0  ...   \n",
       "4                         0.0                                      0.0  ...   \n",
       "\n",
       "   INCOME_AMT_1-9999  INCOME_AMT_10000-24999  INCOME_AMT_100000-499999  \\\n",
       "0                0.0                     0.0                       0.0   \n",
       "1                1.0                     0.0                       0.0   \n",
       "2                0.0                     0.0                       0.0   \n",
       "3                0.0                     1.0                       0.0   \n",
       "4                0.0                     0.0                       1.0   \n",
       "\n",
       "   INCOME_AMT_10M-50M  INCOME_AMT_1M-5M  INCOME_AMT_25000-99999  \\\n",
       "0                 0.0               0.0                     0.0   \n",
       "1                 0.0               0.0                     0.0   \n",
       "2                 0.0               0.0                     0.0   \n",
       "3                 0.0               0.0                     0.0   \n",
       "4                 0.0               0.0                     0.0   \n",
       "\n",
       "   INCOME_AMT_50M+  INCOME_AMT_5M-10M  SPECIAL_CONSIDERATIONS_N  \\\n",
       "0              0.0                0.0                       1.0   \n",
       "1              0.0                0.0                       1.0   \n",
       "2              0.0                0.0                       1.0   \n",
       "3              0.0                0.0                       1.0   \n",
       "4              0.0                0.0                       1.0   \n",
       "\n",
       "   SPECIAL_CONSIDERATIONS_Y  \n",
       "0                       0.0  \n",
       "1                       0.0  \n",
       "2                       0.0  \n",
       "3                       0.0  \n",
       "4                       0.0  \n",
       "\n",
       "[5 rows x 448 columns]"
      ]
     },
     "execution_count": 12,
     "metadata": {},
     "output_type": "execute_result"
    }
   ],
   "source": [
    "# Convert categorical data to numeric with `pd.get_dummies`\n",
    "application_df = pd.get_dummies(application_df,dtype=float)\n",
    "application_df.head()"
   ]
  },
  {
   "cell_type": "code",
   "execution_count": 13,
   "metadata": {
    "executionInfo": {
     "elapsed": 560,
     "status": "ok",
     "timestamp": 1661154235429,
     "user": {
      "displayName": "Harshad Patil",
      "userId": "17090624417283585948"
     },
     "user_tz": 300
    },
    "id": "0DB8jPrOgIP3"
   },
   "outputs": [],
   "source": [
    "# Split our preprocessed data into our features and target arrays\n",
    "y = application_df['IS_SUCCESSFUL'].values\n",
    "X = application_df.drop('IS_SUCCESSFUL', axis=1).values\n",
    "\n",
    "# Split the preprocessed data into a training and testing dataset\n",
    "X_train, X_test, y_train, y_test = train_test_split(X,y,random_state = 42)"
   ]
  },
  {
   "cell_type": "code",
   "execution_count": 14,
   "metadata": {
    "colab": {
     "base_uri": "https://localhost:8080/"
    },
    "executionInfo": {
     "elapsed": 379,
     "status": "ok",
     "timestamp": 1661154237622,
     "user": {
      "displayName": "Harshad Patil",
      "userId": "17090624417283585948"
     },
     "user_tz": 300
    },
    "id": "z0iO2Fw-gIP3",
    "outputId": "4052352a-b250-48b0-b381-2954ef889457"
   },
   "outputs": [
    {
     "data": {
      "text/plain": [
       "447"
      ]
     },
     "execution_count": 14,
     "metadata": {},
     "output_type": "execute_result"
    }
   ],
   "source": [
    "# Create a StandardScaler instances\n",
    "scaler = StandardScaler()\n",
    "\n",
    "# Fit the StandardScaler\n",
    "X_scaler = scaler.fit(X_train)\n",
    "\n",
    "# Scale the data\n",
    "X_train_scaled = X_scaler.transform(X_train)\n",
    "X_test_scaled = X_scaler.transform(X_test)\n",
    "len(X_train_scaled[0])"
   ]
  },
  {
   "cell_type": "markdown",
   "metadata": {
    "id": "xafnQnr2gIP4"
   },
   "source": [
    "## Compile, Train and Evaluate the Model"
   ]
  },
  {
   "cell_type": "code",
   "execution_count": 15,
   "metadata": {
    "colab": {
     "base_uri": "https://localhost:8080/"
    },
    "executionInfo": {
     "elapsed": 548,
     "status": "ok",
     "timestamp": 1661154242946,
     "user": {
      "displayName": "Harshad Patil",
      "userId": "17090624417283585948"
     },
     "user_tz": 300
    },
    "id": "KxjuoLSQgIP4",
    "outputId": "b47e4c49-2304-43e7-f661-459e1a6bf3ac"
   },
   "outputs": [
    {
     "name": "stdout",
     "output_type": "stream",
     "text": [
      "Model: \"sequential\"\n",
      "_________________________________________________________________\n",
      " Layer (type)                Output Shape              Param #   \n",
      "=================================================================\n",
      " dense (Dense)               (None, 160)               71680     \n",
      "                                                                 \n",
      " dense_1 (Dense)             (None, 30)                4830      \n",
      "                                                                 \n",
      " dense_2 (Dense)             (None, 18)                558       \n",
      "                                                                 \n",
      " dense_3 (Dense)             (None, 1)                 19        \n",
      "                                                                 \n",
      "=================================================================\n",
      "Total params: 77,087\n",
      "Trainable params: 77,087\n",
      "Non-trainable params: 0\n",
      "_________________________________________________________________\n"
     ]
    }
   ],
   "source": [
    "# Define the model - deep neural net, i.e., the number of input features and hidden nodes for each layer.\n",
    "num_features = len(X_train_scaled[0])\n",
    "hidden_node_1 = 160\n",
    "hidden_node_2 = 30\n",
    "hidden_node_3= 18\n",
    "\n",
    "nn = tf.keras.models.Sequential()\n",
    "\n",
    "# First hidden layer\n",
    "nn.add(tf.keras.layers.Dense(units=hidden_node_1, input_dim=num_features, activation='relu'))\n",
    "\n",
    "# Second hidden layer\n",
    "nn.add(tf.keras.layers.Dense(units=hidden_node_2, activation='relu'))\n",
    "\n",
    "# Third layer\n",
    "nn.add(tf.keras.layers.Dense(units=hidden_node_3, activation='relu'))\n",
    "\n",
    "# Output layer\n",
    "nn.add(tf.keras.layers.Dense(units=1, activation=\"sigmoid\"))\n",
    "\n",
    "# Check the structure of the model\n",
    "nn.summary()"
   ]
  },
  {
   "cell_type": "code",
   "execution_count": 16,
   "metadata": {
    "executionInfo": {
     "elapsed": 195,
     "status": "ok",
     "timestamp": 1661154247623,
     "user": {
      "displayName": "Harshad Patil",
      "userId": "17090624417283585948"
     },
     "user_tz": 300
    },
    "id": "WSkKvmpugIP5"
   },
   "outputs": [],
   "source": [
    "# Compile the model\n",
    "nn.compile(loss='binary_crossentropy', optimizer='adam', metrics=['accuracy'])"
   ]
  },
  {
   "cell_type": "code",
   "execution_count": 17,
   "metadata": {
    "colab": {
     "base_uri": "https://localhost:8080/"
    },
    "executionInfo": {
     "elapsed": 139686,
     "status": "ok",
     "timestamp": 1661154396187,
     "user": {
      "displayName": "Harshad Patil",
      "userId": "17090624417283585948"
     },
     "user_tz": 300
    },
    "id": "k6xifnaCgIP5",
    "outputId": "dd4d7922-e766-4786-9498-052d65f74a85"
   },
   "outputs": [
    {
     "name": "stdout",
     "output_type": "stream",
     "text": [
      "Epoch 1/60\n",
      "804/804 [==============================] - 6s 5ms/step - loss: 0.4620 - accuracy: 0.7801\n",
      "Epoch 2/60\n",
      "804/804 [==============================] - 2s 2ms/step - loss: 0.4270 - accuracy: 0.7957\n",
      "Epoch 3/60\n",
      "804/804 [==============================] - 2s 3ms/step - loss: 0.4229 - accuracy: 0.7985\n",
      "Epoch 4/60\n",
      "804/804 [==============================] - 3s 3ms/step - loss: 0.4199 - accuracy: 0.7994\n",
      "Epoch 5/60\n",
      "804/804 [==============================] - 3s 3ms/step - loss: 0.4195 - accuracy: 0.7987\n",
      "Epoch 6/60\n",
      "804/804 [==============================] - 3s 3ms/step - loss: 0.4173 - accuracy: 0.8004\n",
      "Epoch 7/60\n",
      "804/804 [==============================] - 2s 2ms/step - loss: 0.4170 - accuracy: 0.8004\n",
      "Epoch 8/60\n",
      "804/804 [==============================] - 2s 3ms/step - loss: 0.4160 - accuracy: 0.8012\n",
      "Epoch 9/60\n",
      "804/804 [==============================] - 2s 3ms/step - loss: 0.4150 - accuracy: 0.8034\n",
      "Epoch 10/60\n",
      "804/804 [==============================] - 3s 3ms/step - loss: 0.4142 - accuracy: 0.8020\n",
      "Epoch 11/60\n",
      "804/804 [==============================] - 2s 3ms/step - loss: 0.4142 - accuracy: 0.8026\n",
      "Epoch 12/60\n",
      "804/804 [==============================] - 2s 2ms/step - loss: 0.4136 - accuracy: 0.8023\n",
      "Epoch 13/60\n",
      "804/804 [==============================] - 2s 3ms/step - loss: 0.4130 - accuracy: 0.8040\n",
      "Epoch 14/60\n",
      "804/804 [==============================] - 2s 2ms/step - loss: 0.4121 - accuracy: 0.8044\n",
      "Epoch 15/60\n",
      "804/804 [==============================] - 3s 3ms/step - loss: 0.4117 - accuracy: 0.8036\n",
      "Epoch 16/60\n",
      "804/804 [==============================] - 3s 3ms/step - loss: 0.4108 - accuracy: 0.8045\n",
      "Epoch 17/60\n",
      "804/804 [==============================] - 3s 3ms/step - loss: 0.4107 - accuracy: 0.8052\n",
      "Epoch 18/60\n",
      "804/804 [==============================] - 2s 3ms/step - loss: 0.4098 - accuracy: 0.8056\n",
      "Epoch 19/60\n",
      "804/804 [==============================] - 2s 3ms/step - loss: 0.4093 - accuracy: 0.8058\n",
      "Epoch 20/60\n",
      "804/804 [==============================] - 3s 3ms/step - loss: 0.4087 - accuracy: 0.8047\n",
      "Epoch 21/60\n",
      "804/804 [==============================] - 3s 3ms/step - loss: 0.4088 - accuracy: 0.8059\n",
      "Epoch 22/60\n",
      "804/804 [==============================] - 3s 3ms/step - loss: 0.4081 - accuracy: 0.8056\n",
      "Epoch 23/60\n",
      "804/804 [==============================] - 2s 3ms/step - loss: 0.4083 - accuracy: 0.8056\n",
      "Epoch 24/60\n",
      "804/804 [==============================] - 2s 3ms/step - loss: 0.4074 - accuracy: 0.8062\n",
      "Epoch 25/60\n",
      "804/804 [==============================] - 2s 3ms/step - loss: 0.4072 - accuracy: 0.8069\n",
      "Epoch 26/60\n",
      "804/804 [==============================] - 2s 3ms/step - loss: 0.4062 - accuracy: 0.8064\n",
      "Epoch 27/60\n",
      "804/804 [==============================] - 2s 3ms/step - loss: 0.4069 - accuracy: 0.8071\n",
      "Epoch 28/60\n",
      "804/804 [==============================] - 2s 3ms/step - loss: 0.4058 - accuracy: 0.8063\n",
      "Epoch 29/60\n",
      "804/804 [==============================] - 2s 2ms/step - loss: 0.4057 - accuracy: 0.8060\n",
      "Epoch 30/60\n",
      "804/804 [==============================] - 2s 2ms/step - loss: 0.4051 - accuracy: 0.8077\n",
      "Epoch 31/60\n",
      "804/804 [==============================] - 2s 3ms/step - loss: 0.4051 - accuracy: 0.8075\n",
      "Epoch 32/60\n",
      "804/804 [==============================] - 2s 3ms/step - loss: 0.4051 - accuracy: 0.8079\n",
      "Epoch 33/60\n",
      "804/804 [==============================] - 2s 3ms/step - loss: 0.4046 - accuracy: 0.8073\n",
      "Epoch 34/60\n",
      "804/804 [==============================] - 2s 3ms/step - loss: 0.4039 - accuracy: 0.8077\n",
      "Epoch 35/60\n",
      "804/804 [==============================] - 2s 3ms/step - loss: 0.4037 - accuracy: 0.8073\n",
      "Epoch 36/60\n",
      "804/804 [==============================] - 2s 3ms/step - loss: 0.4045 - accuracy: 0.8080\n",
      "Epoch 37/60\n",
      "804/804 [==============================] - 2s 3ms/step - loss: 0.4036 - accuracy: 0.8086\n",
      "Epoch 38/60\n",
      "804/804 [==============================] - 3s 4ms/step - loss: 0.4031 - accuracy: 0.8087\n",
      "Epoch 39/60\n",
      "804/804 [==============================] - 2s 3ms/step - loss: 0.4030 - accuracy: 0.8070\n",
      "Epoch 40/60\n",
      "804/804 [==============================] - 2s 2ms/step - loss: 0.4026 - accuracy: 0.8085\n",
      "Epoch 41/60\n",
      "804/804 [==============================] - 2s 3ms/step - loss: 0.4021 - accuracy: 0.8078\n",
      "Epoch 42/60\n",
      "804/804 [==============================] - 2s 2ms/step - loss: 0.4022 - accuracy: 0.8090\n",
      "Epoch 43/60\n",
      "804/804 [==============================] - 2s 3ms/step - loss: 0.4013 - accuracy: 0.8086\n",
      "Epoch 44/60\n",
      "804/804 [==============================] - 2s 3ms/step - loss: 0.4017 - accuracy: 0.8082\n",
      "Epoch 45/60\n",
      "804/804 [==============================] - 2s 3ms/step - loss: 0.4016 - accuracy: 0.8085\n",
      "Epoch 46/60\n",
      "804/804 [==============================] - 2s 3ms/step - loss: 0.4015 - accuracy: 0.8080\n",
      "Epoch 47/60\n",
      "804/804 [==============================] - 2s 2ms/step - loss: 0.4009 - accuracy: 0.8092\n",
      "Epoch 48/60\n",
      "804/804 [==============================] - 2s 2ms/step - loss: 0.4007 - accuracy: 0.8096\n",
      "Epoch 49/60\n",
      "804/804 [==============================] - 2s 2ms/step - loss: 0.4005 - accuracy: 0.8100\n",
      "Epoch 50/60\n",
      "804/804 [==============================] - 2s 3ms/step - loss: 0.4002 - accuracy: 0.8090\n",
      "Epoch 51/60\n",
      "804/804 [==============================] - 3s 3ms/step - loss: 0.4003 - accuracy: 0.8102\n",
      "Epoch 52/60\n",
      "804/804 [==============================] - 2s 3ms/step - loss: 0.4006 - accuracy: 0.8099\n",
      "Epoch 53/60\n",
      "804/804 [==============================] - 3s 3ms/step - loss: 0.3998 - accuracy: 0.8097\n",
      "Epoch 54/60\n",
      "804/804 [==============================] - 2s 2ms/step - loss: 0.4001 - accuracy: 0.8097\n",
      "Epoch 55/60\n",
      "804/804 [==============================] - 3s 3ms/step - loss: 0.3996 - accuracy: 0.8094\n",
      "Epoch 56/60\n",
      "804/804 [==============================] - 2s 3ms/step - loss: 0.3998 - accuracy: 0.8097\n",
      "Epoch 57/60\n",
      "804/804 [==============================] - 2s 2ms/step - loss: 0.3990 - accuracy: 0.8104\n",
      "Epoch 58/60\n",
      "804/804 [==============================] - 2s 2ms/step - loss: 0.3992 - accuracy: 0.8095\n",
      "Epoch 59/60\n",
      "804/804 [==============================] - 2s 2ms/step - loss: 0.3990 - accuracy: 0.8099\n",
      "Epoch 60/60\n",
      "804/804 [==============================] - 2s 2ms/step - loss: 0.3989 - accuracy: 0.8101\n"
     ]
    }
   ],
   "source": [
    "# Train the model\n",
    "fit_model = nn.fit(X_train_scaled,y_train,epochs=60)"
   ]
  },
  {
   "cell_type": "code",
   "execution_count": 18,
   "metadata": {
    "colab": {
     "base_uri": "https://localhost:8080/"
    },
    "executionInfo": {
     "elapsed": 983,
     "status": "ok",
     "timestamp": 1661154413262,
     "user": {
      "displayName": "Harshad Patil",
      "userId": "17090624417283585948"
     },
     "user_tz": 300
    },
    "id": "boOgGo7AgIP6",
    "outputId": "5f798433-f6b3-4532-fa54-39ce41c4ac7b"
   },
   "outputs": [
    {
     "name": "stdout",
     "output_type": "stream",
     "text": [
      "268/268 - 1s - loss: 0.4936 - accuracy: 0.7893 - 511ms/epoch - 2ms/step\n",
      "Loss: 0.4936482310295105, Accuracy: 0.7892711162567139\n"
     ]
    }
   ],
   "source": [
    "# Evaluate the model using the test data\n",
    "model_loss, model_accuracy = nn.evaluate(X_test_scaled,y_test,verbose=2)\n",
    "print(f\"Loss: {model_loss}, Accuracy: {model_accuracy}\")"
   ]
  },
  {
   "cell_type": "code",
   "execution_count": 19,
   "metadata": {
    "colab": {
     "base_uri": "https://localhost:8080/",
     "height": 17
    },
    "executionInfo": {
     "elapsed": 167,
     "status": "ok",
     "timestamp": 1661154437809,
     "user": {
      "displayName": "Harshad Patil",
      "userId": "17090624417283585948"
     },
     "user_tz": 300
    },
    "id": "q9T3PRnrgIP6",
    "outputId": "9f0e4485-ac08-462e-ce42-22eb6d12d6c4"
   },
   "outputs": [
    {
     "data": {
      "application/javascript": [
       "\n",
       "    async function download(id, filename, size) {\n",
       "      if (!google.colab.kernel.accessAllowed) {\n",
       "        return;\n",
       "      }\n",
       "      const div = document.createElement('div');\n",
       "      const label = document.createElement('label');\n",
       "      label.textContent = `Downloading \"${filename}\": `;\n",
       "      div.appendChild(label);\n",
       "      const progress = document.createElement('progress');\n",
       "      progress.max = size;\n",
       "      div.appendChild(progress);\n",
       "      document.body.appendChild(div);\n",
       "\n",
       "      const buffers = [];\n",
       "      let downloaded = 0;\n",
       "\n",
       "      const channel = await google.colab.kernel.comms.open(id);\n",
       "      // Send a message to notify the kernel that we're ready.\n",
       "      channel.send({})\n",
       "\n",
       "      for await (const message of channel.messages) {\n",
       "        // Send a message to notify the kernel that we're ready.\n",
       "        channel.send({})\n",
       "        if (message.buffers) {\n",
       "          for (const buffer of message.buffers) {\n",
       "            buffers.push(buffer);\n",
       "            downloaded += buffer.byteLength;\n",
       "            progress.value = downloaded;\n",
       "          }\n",
       "        }\n",
       "      }\n",
       "      const blob = new Blob(buffers, {type: 'application/binary'});\n",
       "      const a = document.createElement('a');\n",
       "      a.href = window.URL.createObjectURL(blob);\n",
       "      a.download = filename;\n",
       "      div.appendChild(a);\n",
       "      a.click();\n",
       "      div.remove();\n",
       "    }\n",
       "  "
      ],
      "text/plain": [
       "<IPython.core.display.Javascript object>"
      ]
     },
     "metadata": {},
     "output_type": "display_data"
    },
    {
     "data": {
      "application/javascript": [
       "download(\"download_6c5320aa-a5f6-4e8a-a7c7-1b71ee21c1c6\", \"AlphabetSoupCharity_Optimization1.h5\", 963640)"
      ],
      "text/plain": [
       "<IPython.core.display.Javascript object>"
      ]
     },
     "metadata": {},
     "output_type": "display_data"
    }
   ],
   "source": [
    "# Export our model to HDF5 file\n",
    "from google.colab import files\n",
    "\n",
    "nn.save('/content/AlphabetSoupCharity_Optimization1.h5')\n",
    "files.download('/content/AlphabetSoupCharity_Optimization1.h5')"
   ]
  },
  {
   "cell_type": "markdown",
   "metadata": {
    "id": "8lXsW6gTgIP6"
   },
   "source": [
    "## Step 4: Neural Network Final Report\n",
    "\n",
    "### Overview\n",
    "The nonprofit foundation, Alphabet Soup needed a tool that can help it select the applicants for funding with the best chance of success in their ventures. Using machine learning and neural networks, an algorithm is developed to predict the applicant's success in their venture using various features. This algorithm will enable the foundation to assist in deciding whether to select the applicant for funding.\n",
    "\n",
    "### Results:\n",
    "##### Data Processing\n",
    "In the preprocessing of data, IS_SUCCESSFUL variable was identified as the target. The purpose of the model is to determine the success of the applicant which is dependent on how effectively they use the fund. \n",
    "\n",
    "#### AlphabetSoupCharity_Optimization1.ipynb: \n",
    "1. Only the EIN column was dropped, & KEPT THE NAME Column to see if it increases model accuracy. The remaining variables in the dataset were retained as features. Binning were done to reduce the noise on our model.\n",
    "2. IS_SUCCESSFUL variable was identified as the target\n",
    "3. OPTIMIZATION TRIAL1 Model run: 160, 30 & 18 neurons for 1ST, 2ND & 3RD layers were maintained from previous run. \n",
    "4. Relu was used in 1ST, 2ND & 3RD activation and single neuron in 4TH layer with sigmoid activation\n",
    "5. Epochs were reduced to 60\n",
    "\n",
    "#### Accuracy Did Not change with increasing neurons and Epochs - 78.9%\n",
    "\n",
    "### Summary: \n",
    "The initial model, Starter_Code.ipynb produced an accuracy below 75% which was not satisfactory, where columns EIN & NAME were dropped as they were not thought of features or target. In AlphabetSoupCharity_Optimization.ipynb, another layer was added and neurons were doubled in the 1st layer to see if it affected the model accuracy. As a result, I analyzed the dataset and realized that adding back the NAME as a feature is relevant as this determines the number of times the applicant applied for a funding. However, there is too much noise (variance) on NAME, which had to be reduced through binning.\n",
    "\n",
    "In order to optimize the model, AlphabetSoupCharity_Optimization1.ipynb, I needed to reduce the noise caused by the NAME variable by further binning names with count of less than 5 (reducing the uniques from 19568 to 403). The third layer was maintained from earlier run which had 160, 30 and 18 neurons, for the 1st, 2nd and 3rd layers. The epoch was also reduced to 60 from 100 from previous run. The output layer's activation function was retained to sigmoid as the model is supposed classify whether the applications will be successful or not. These changes enable the model to produce an accuracy rate of above 75% or 79%."
   ]
  },
  {
   "cell_type": "code",
   "execution_count": null,
   "metadata": {},
   "outputs": [],
   "source": []
  }
 ],
 "metadata": {
  "colab": {
   "name": "AlphabetSoupCharity_Optimzation1.ipynb",
   "provenance": []
  },
  "kernelspec": {
   "display_name": "Python 3",
   "language": "python",
   "name": "python3"
  },
  "language_info": {
   "codemirror_mode": {
    "name": "ipython",
    "version": 3
   },
   "file_extension": ".py",
   "mimetype": "text/x-python",
   "name": "python",
   "nbconvert_exporter": "python",
   "pygments_lexer": "ipython3",
   "version": "3.6.10"
  }
 },
 "nbformat": 4,
 "nbformat_minor": 1
}
